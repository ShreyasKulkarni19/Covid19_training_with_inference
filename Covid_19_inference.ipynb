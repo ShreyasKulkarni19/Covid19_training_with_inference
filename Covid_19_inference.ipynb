{
  "nbformat": 4,
  "nbformat_minor": 0,
  "metadata": {
    "colab": {
      "provenance": []
    },
    "kernelspec": {
      "name": "python3",
      "display_name": "Python 3"
    },
    "language_info": {
      "name": "python"
    }
  },
  "cells": [
    {
      "cell_type": "code",
      "source": [
        "import torch\n",
        "import torch.nn as nn\n",
        "import torch.nn.functional as F\n",
        "import torch.optim as optim\n",
        "import numpy as np\n",
        "\n",
        "class Covid19Model0(nn.Module):\n",
        "  def __init__(self):\n",
        "    super(Covid19Model0, self).__init__()\n",
        "\n",
        "    # Convolutional layers\n",
        "    self.conv1 = nn.Conv2d(3, 32, kernel_size=3, padding=1)\n",
        "    self.dropout1 = nn.Dropout(0.5)  # Dropout after conv1\n",
        "    self.conv2 = nn.Conv2d(32, 64, kernel_size=3, padding=1)\n",
        "    self.dropout2 = nn.Dropout(0.5)  # Dropout after conv2\n",
        "    self.conv3 = nn.Conv2d(64, 128, kernel_size=3, padding=1)\n",
        "    self.dropout3 = nn.Dropout(0.5)  # Dropout after conv3\n",
        "\n",
        "    # Pooling layer\n",
        "    self.pool = nn.MaxPool2d(2, 2)\n",
        "\n",
        "    # Fully connected layers\n",
        "    self.linear1 = nn.Linear(128 * 31 * 31, 256)\n",
        "    self.dropout4 = nn.Dropout(0.5)  # Dropout after linear1\n",
        "    self.linear2 = nn.Linear(256, 128)\n",
        "    self.dropout5 = nn.Dropout(0.5)  # Dropout after linear2\n",
        "    self.linear3 = nn.Linear(128, 64)\n",
        "    self.dropout6 = nn.Dropout(0.5)  # Dropout after linear3\n",
        "    self.linear4 = nn.Linear(64, 3)   # Output layer for 3 classes\n",
        "\n",
        "  def forward(self, x):\n",
        "    # Forward pass through the network\n",
        "    x = F.relu(self.conv1(x))\n",
        "    x = self.dropout1(x)\n",
        "    x = self.pool(x)\n",
        "\n",
        "    x = F.relu(self.conv2(x))\n",
        "    x = self.dropout2(x)\n",
        "    x = self.pool(x)\n",
        "\n",
        "    x = F.relu(self.conv3(x))\n",
        "    x = self.dropout3(x)\n",
        "    x = self.pool(x)\n",
        "\n",
        "    # Flatten the tensor for the fully connected layers\n",
        "    x = x.view(-1, 128 * 31 * 31)\n",
        "\n",
        "    x = F.relu(self.linear1(x))\n",
        "    x = self.dropout4(x)\n",
        "\n",
        "    x = F.relu(self.linear2(x))\n",
        "    x = self.dropout5(x)\n",
        "\n",
        "    x = F.relu(self.linear3(x))\n",
        "    x = self.dropout6(x)\n",
        "\n",
        "    x = self.linear4(x)  # Output layer\n",
        "    return x\n"
      ],
      "metadata": {
        "id": "oZa9MuOs8Xys"
      },
      "execution_count": 6,
      "outputs": []
    },
    {
      "cell_type": "code",
      "source": [
        "model = Covid19Model0()\n",
        "model.load_state_dict(torch.load('/content/drive/MyDrive/models/m2.pth'))  # Load weights\n",
        "model.eval()"
      ],
      "metadata": {
        "colab": {
          "base_uri": "https://localhost:8080/"
        },
        "id": "dLGZ_dch9o43",
        "outputId": "cba6f0c7-080b-4a61-89b0-73d8676cc1b7"
      },
      "execution_count": 14,
      "outputs": [
        {
          "output_type": "stream",
          "name": "stderr",
          "text": [
            "<ipython-input-14-394a26f8757c>:2: FutureWarning: You are using `torch.load` with `weights_only=False` (the current default value), which uses the default pickle module implicitly. It is possible to construct malicious pickle data which will execute arbitrary code during unpickling (See https://github.com/pytorch/pytorch/blob/main/SECURITY.md#untrusted-models for more details). In a future release, the default value for `weights_only` will be flipped to `True`. This limits the functions that could be executed during unpickling. Arbitrary objects will no longer be allowed to be loaded via this mode unless they are explicitly allowlisted by the user via `torch.serialization.add_safe_globals`. We recommend you start setting `weights_only=True` for any use case where you don't have full control of the loaded file. Please open an issue on GitHub for any issues related to this experimental feature.\n",
            "  model.load_state_dict(torch.load('/content/drive/MyDrive/models/m2.pth'))  # Load weights\n"
          ]
        },
        {
          "output_type": "execute_result",
          "data": {
            "text/plain": [
              "Covid19Model0(\n",
              "  (conv1): Conv2d(3, 32, kernel_size=(3, 3), stride=(1, 1), padding=(1, 1))\n",
              "  (dropout1): Dropout(p=0.5, inplace=False)\n",
              "  (conv2): Conv2d(32, 64, kernel_size=(3, 3), stride=(1, 1), padding=(1, 1))\n",
              "  (dropout2): Dropout(p=0.5, inplace=False)\n",
              "  (conv3): Conv2d(64, 128, kernel_size=(3, 3), stride=(1, 1), padding=(1, 1))\n",
              "  (dropout3): Dropout(p=0.5, inplace=False)\n",
              "  (pool): MaxPool2d(kernel_size=2, stride=2, padding=0, dilation=1, ceil_mode=False)\n",
              "  (linear1): Linear(in_features=123008, out_features=256, bias=True)\n",
              "  (dropout4): Dropout(p=0.5, inplace=False)\n",
              "  (linear2): Linear(in_features=256, out_features=128, bias=True)\n",
              "  (dropout5): Dropout(p=0.5, inplace=False)\n",
              "  (linear3): Linear(in_features=128, out_features=64, bias=True)\n",
              "  (dropout6): Dropout(p=0.5, inplace=False)\n",
              "  (linear4): Linear(in_features=64, out_features=3, bias=True)\n",
              ")"
            ]
          },
          "metadata": {},
          "execution_count": 14
        }
      ]
    },
    {
      "cell_type": "code",
      "source": [
        "input_shape = [1, 3, 250, 250]\n",
        "sample_input = torch.zeros((input_shape))"
      ],
      "metadata": {
        "id": "bEfstEA-CNVr"
      },
      "execution_count": 34,
      "outputs": []
    },
    {
      "cell_type": "code",
      "source": [
        "onnx_model_path = \"model.onnx\"\n",
        "\n",
        "# Export the model\n",
        "torch.onnx.export(\n",
        "    model,                   # PyTorch model\n",
        "    sample_input,            # Sample input tensor\n",
        "    onnx_model_path,         # Path to save the ONNX model\n",
        "    export_params=True,      # Store the trained parameter weights inside the model file\n",
        "    opset_version=11,        # ONNX version to export the model to\n",
        "    do_constant_folding=True # Fold constant nodes for optimization\n",
        ")"
      ],
      "metadata": {
        "id": "tS-i8rzWEjSC"
      },
      "execution_count": 35,
      "outputs": []
    },
    {
      "cell_type": "code",
      "source": [
        "!pip install onnxruntime"
      ],
      "metadata": {
        "colab": {
          "base_uri": "https://localhost:8080/"
        },
        "id": "YTpSz9cWEv-B",
        "outputId": "3ee7ccb1-9cf3-4c15-f444-68398dc5aa37"
      },
      "execution_count": 20,
      "outputs": [
        {
          "output_type": "stream",
          "name": "stdout",
          "text": [
            "Collecting onnxruntime\n",
            "  Downloading onnxruntime-1.20.0-cp310-cp310-manylinux_2_27_x86_64.manylinux_2_28_x86_64.whl.metadata (4.4 kB)\n",
            "Collecting coloredlogs (from onnxruntime)\n",
            "  Downloading coloredlogs-15.0.1-py2.py3-none-any.whl.metadata (12 kB)\n",
            "Requirement already satisfied: flatbuffers in /usr/local/lib/python3.10/dist-packages (from onnxruntime) (24.3.25)\n",
            "Requirement already satisfied: numpy>=1.21.6 in /usr/local/lib/python3.10/dist-packages (from onnxruntime) (1.26.4)\n",
            "Requirement already satisfied: packaging in /usr/local/lib/python3.10/dist-packages (from onnxruntime) (24.1)\n",
            "Requirement already satisfied: protobuf in /usr/local/lib/python3.10/dist-packages (from onnxruntime) (3.20.3)\n",
            "Requirement already satisfied: sympy in /usr/local/lib/python3.10/dist-packages (from onnxruntime) (1.13.1)\n",
            "Collecting humanfriendly>=9.1 (from coloredlogs->onnxruntime)\n",
            "  Downloading humanfriendly-10.0-py2.py3-none-any.whl.metadata (9.2 kB)\n",
            "Requirement already satisfied: mpmath<1.4,>=1.1.0 in /usr/local/lib/python3.10/dist-packages (from sympy->onnxruntime) (1.3.0)\n",
            "Downloading onnxruntime-1.20.0-cp310-cp310-manylinux_2_27_x86_64.manylinux_2_28_x86_64.whl (13.3 MB)\n",
            "\u001b[2K   \u001b[90m━━━━━━━━━━━━━━━━━━━━━━━━━━━━━━━━━━━━━━━━\u001b[0m \u001b[32m13.3/13.3 MB\u001b[0m \u001b[31m56.9 MB/s\u001b[0m eta \u001b[36m0:00:00\u001b[0m\n",
            "\u001b[?25hDownloading coloredlogs-15.0.1-py2.py3-none-any.whl (46 kB)\n",
            "\u001b[2K   \u001b[90m━━━━━━━━━━━━━━━━━━━━━━━━━━━━━━━━━━━━━━━━\u001b[0m \u001b[32m46.0/46.0 kB\u001b[0m \u001b[31m3.6 MB/s\u001b[0m eta \u001b[36m0:00:00\u001b[0m\n",
            "\u001b[?25hDownloading humanfriendly-10.0-py2.py3-none-any.whl (86 kB)\n",
            "\u001b[2K   \u001b[90m━━━━━━━━━━━━━━━━━━━━━━━━━━━━━━━━━━━━━━━━\u001b[0m \u001b[32m86.8/86.8 kB\u001b[0m \u001b[31m7.1 MB/s\u001b[0m eta \u001b[36m0:00:00\u001b[0m\n",
            "\u001b[?25hInstalling collected packages: humanfriendly, coloredlogs, onnxruntime\n",
            "Successfully installed coloredlogs-15.0.1 humanfriendly-10.0 onnxruntime-1.20.0\n"
          ]
        }
      ]
    },
    {
      "cell_type": "code",
      "source": [
        "from PIL import Image\n",
        "import torchvision.transforms as transforms\n",
        "import torch\n",
        "\n",
        "# Load the image\n",
        "# image_path = \"/content/drive/MyDrive/Kaggle/Covid19-dataset/test/Viral Pneumonia/0102.jpeg\"  # Replace with your image path\n",
        "# image_path = \"/content/drive/MyDrive/Kaggle/Covid19-dataset/test/Normal/0102.jpeg\"  # Replace with your image path\n",
        "image_path = \"/content/drive/MyDrive/Kaggle/Covid19-dataset/test/Covid/0102.jpeg\"  # Replace with your image path\n",
        "image = Image.open(image_path)\n",
        "\n",
        "# Define the transformation pipeline\n",
        "t = transforms.Compose([\n",
        "    transforms.Resize((250, 250)),            # Resize image to 256x256\n",
        "    transforms.RandomHorizontalFlip(p=0.5),   # Randomly flip the image horizontally\n",
        "    transforms.ToTensor(),                    # Convert the image to a PyTorch tensor\n",
        "    transforms.Normalize(mean=[0.485, 0.456, 0.406], std=[0.229, 0.224, 0.225])\n",
        "])\n",
        "\n",
        "# Apply the transformation\n",
        "image_tensor = t(image)\n",
        "\n",
        "# Add a batch dimension (1, C, H, W) if required by the model\n",
        "image_tensor = image_tensor.unsqueeze(0)\n",
        "# image_tensor = image_tensor.repeat(8, 1, 1, 1)\n",
        "print(image_tensor.shape)  # Verify the shape, should be (1, C, H, W)\n"
      ],
      "metadata": {
        "colab": {
          "base_uri": "https://localhost:8080/"
        },
        "id": "aDqE1k1SGDYO",
        "outputId": "98bdce46-9640-4efb-a515-1fe3c80bdb4e"
      },
      "execution_count": 41,
      "outputs": [
        {
          "output_type": "stream",
          "name": "stdout",
          "text": [
            "torch.Size([1, 3, 250, 250])\n"
          ]
        }
      ]
    },
    {
      "cell_type": "code",
      "source": [
        "import onnxruntime as ort\n",
        "import numpy as np\n",
        "\n",
        "# Load the ONNX model\n",
        "session = ort.InferenceSession(onnx_model_path)\n",
        "\n",
        "# Prepare the input data\n",
        "input_name = session.get_inputs()[0].name\n",
        "input_data = image_tensor.numpy()  # Convert to NumPy array if necessary\n",
        "\n",
        "# Run inference\n",
        "output = session.run(None, {input_name: input_data})\n",
        "\n",
        "print(output)\n",
        "\n",
        "output = np.argmax(output, axis=2)\n",
        "\n",
        "# Display the result\n",
        "print(\"Inference output:\", output)\n"
      ],
      "metadata": {
        "colab": {
          "base_uri": "https://localhost:8080/"
        },
        "id": "Vif4CDCKFhin",
        "outputId": "20e87854-44d2-4088-e987-c30f183017aa"
      },
      "execution_count": 42,
      "outputs": [
        {
          "output_type": "stream",
          "name": "stdout",
          "text": [
            "[array([[ 2.7040148 ,  0.05735902, -1.1582744 ]], dtype=float32)]\n",
            "Inference output: [[0]]\n"
          ]
        }
      ]
    },
    {
      "cell_type": "code",
      "source": [],
      "metadata": {
        "id": "CO76uXHoGpcr"
      },
      "execution_count": null,
      "outputs": []
    }
  ]
}